{
 "cells": [
  {
   "cell_type": "code",
   "execution_count": 1,
   "id": "855e0366",
   "metadata": {},
   "outputs": [],
   "source": [
    "from data.get_data import *\n",
    "from utils import *\n",
    "from models.cifar10_model import *\n",
    "from models.mnist_model import *\n",
    "from models.disco_model import *"
   ]
  },
  {
   "cell_type": "code",
   "execution_count": 2,
   "id": "30c8edcd",
   "metadata": {},
   "outputs": [],
   "source": [
    "import torch\n",
    "import torchvision\n",
    "import torch.nn as nn\n",
    "import torch.nn.functional as F\n",
    "import torch.optim as optim\n",
    "from matplotlib import pyplot as plt"
   ]
  },
  {
   "cell_type": "code",
   "execution_count": 3,
   "id": "6210d56b",
   "metadata": {},
   "outputs": [
    {
     "data": {
      "text/plain": [
       "'cuda'"
      ]
     },
     "execution_count": 3,
     "metadata": {},
     "output_type": "execute_result"
    }
   ],
   "source": [
    "device = 'cuda' if torch.cuda.is_available() else 'cpu'\n",
    "device"
   ]
  },
  {
   "cell_type": "code",
   "execution_count": 4,
   "id": "d6dcdfa3",
   "metadata": {},
   "outputs": [
    {
     "data": {
      "text/plain": [
       "<All keys matched successfully>"
      ]
     },
     "execution_count": 4,
     "metadata": {},
     "output_type": "execute_result"
    }
   ],
   "source": [
    "clf_model = mnistmodel_B().to(device)\n",
    "clf_model.load_state_dict(torch.load('./saved_model/mnist_B.pth'))"
   ]
  },
  {
   "cell_type": "code",
   "execution_count": 5,
   "id": "a386e430",
   "metadata": {},
   "outputs": [
    {
     "data": {
      "text/plain": [
       "<All keys matched successfully>"
      ]
     },
     "execution_count": 5,
     "metadata": {},
     "output_type": "execute_result"
    }
   ],
   "source": [
    "g_ba = generator_ba().to(device)\n",
    "g_ba.load_state_dict(torch.load('./saved_model/collaborative_gan_mnist_B/g_ba.pth'))"
   ]
  },
  {
   "cell_type": "code",
   "execution_count": 6,
   "id": "9b018085",
   "metadata": {},
   "outputs": [],
   "source": [
    "n = np.random.randint(0,10000)\n",
    "img = normalMnist('test').data[n:n+1]\n",
    "img_label = normalMnist('test').labels[n:n+1]"
   ]
  },
  {
   "cell_type": "code",
   "execution_count": 7,
   "id": "582c0321",
   "metadata": {},
   "outputs": [],
   "source": [
    "torch.manual_seed(1)\n",
    "img_atk = FGSM(clf_model,eps=0.3).perturb(img.to(device),img_label.to(device)).cpu()"
   ]
  },
  {
   "cell_type": "code",
   "execution_count": 8,
   "id": "f9de065f",
   "metadata": {},
   "outputs": [],
   "source": [
    "clean_img = g_ba(img_atk.to(device)).cpu().detach()[0][0]"
   ]
  },
  {
   "cell_type": "code",
   "execution_count": 9,
   "id": "3b09959e",
   "metadata": {},
   "outputs": [
    {
     "data": {
      "text/plain": [
       "Text(0.5, 1.0, 'Collaborative GAN defense')"
      ]
     },
     "execution_count": 9,
     "metadata": {},
     "output_type": "execute_result"
    },
    {
     "data": {
      "text/plain": [
       "<Figure size 432x288 with 0 Axes>"
      ]
     },
     "metadata": {},
     "output_type": "display_data"
    },
    {
     "data": {
      "image/png": "[encoded data removed]",
      "text/plain": [
       "<Figure size 720x720 with 3 Axes>"
      ]
     },
     "metadata": {
      "needs_background": "light"
     },
     "output_type": "display_data"
    }
   ],
   "source": [
    "plt.gray()\n",
    "fig,ax = plt.subplots(1,3,figsize=(10,10))\n",
    "ax[0].imshow(img[0][0])\n",
    "ax[0].set_title('Clean image')\n",
    "ax[1].imshow(img_atk[0][0])\n",
    "ax[1].set_title('Attack image(FGSM 0.3)')\n",
    "ax[2].imshow(clean_img)\n",
    "ax[2].set_title('Collaborative GAN defense')"
   ]
  }
 ],
 "metadata": {
  "kernelspec": {
   "display_name": "Python 3 (ipykernel)",
   "language": "python",
   "name": "python3"
  },
  "language_info": {
   "codemirror_mode": {
    "name": "ipython",
    "version": 3
   },
   "file_extension": ".py",
   "mimetype": "text/x-python",
   "name": "python",
   "nbconvert_exporter": "python",
   "pygments_lexer": "ipython3",
   "version": "3.9.7"
  }
 },
 "nbformat": 4,
 "nbformat_minor": 5
}
